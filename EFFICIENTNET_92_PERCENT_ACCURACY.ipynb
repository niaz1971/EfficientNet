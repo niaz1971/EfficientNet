{
  "nbformat": 4,
  "nbformat_minor": 0,
  "metadata": {
    "colab": {
      "provenance": []
    },
    "kernelspec": {
      "name": "python3",
      "display_name": "Python 3"
    },
    "language_info": {
      "name": "python"
    }
  },
  "cells": [
    {
      "cell_type": "code",
      "execution_count": 1,
      "metadata": {
        "id": "CZ67X_pkHD5M"
      },
      "outputs": [],
      "source": [
        "import numpy as np\n",
        "import pandas as pd\n",
        "import matplotlib.pyplot as plt\n",
        "import seaborn as sns\n",
        "\n",
        "import tensorflow as tf\n",
        "from tensorflow import keras\n",
        "from tensorflow.keras import layers\n",
        "from tensorflow.keras.preprocessing.image import ImageDataGenerator\n",
        "from tensorflow.keras.callbacks import EarlyStopping\n",
        "from sklearn.metrics import confusion_matrix\n",
        "import tensorflow_hub as hub\n",
        "\n",
        "import os\n",
        "import random\n",
        "import shutil\n",
        "from math import ceil, sqrt"
      ]
    },
    {
      "cell_type": "code",
      "source": [
        "from google.colab import files\n",
        "uploaded = files.upload()"
      ],
      "metadata": {
        "colab": {
          "base_uri": "https://localhost:8080/",
          "height": 73
        },
        "id": "EtKGZM4bIYOZ",
        "outputId": "8d74beaf-7e69-4544-ba48-720e56602ab7"
      },
      "execution_count": 17,
      "outputs": [
        {
          "output_type": "display_data",
          "data": {
            "text/plain": [
              "<IPython.core.display.HTML object>"
            ],
            "text/html": [
              "\n",
              "     <input type=\"file\" id=\"files-2de5f5e1-68e9-4fab-b4da-585535fb2b7b\" name=\"files[]\" multiple disabled\n",
              "        style=\"border:none\" />\n",
              "     <output id=\"result-2de5f5e1-68e9-4fab-b4da-585535fb2b7b\">\n",
              "      Upload widget is only available when the cell has been executed in the\n",
              "      current browser session. Please rerun this cell to enable.\n",
              "      </output>\n",
              "      <script>// Copyright 2017 Google LLC\n",
              "//\n",
              "// Licensed under the Apache License, Version 2.0 (the \"License\");\n",
              "// you may not use this file except in compliance with the License.\n",
              "// You may obtain a copy of the License at\n",
              "//\n",
              "//      http://www.apache.org/licenses/LICENSE-2.0\n",
              "//\n",
              "// Unless required by applicable law or agreed to in writing, software\n",
              "// distributed under the License is distributed on an \"AS IS\" BASIS,\n",
              "// WITHOUT WARRANTIES OR CONDITIONS OF ANY KIND, either express or implied.\n",
              "// See the License for the specific language governing permissions and\n",
              "// limitations under the License.\n",
              "\n",
              "/**\n",
              " * @fileoverview Helpers for google.colab Python module.\n",
              " */\n",
              "(function(scope) {\n",
              "function span(text, styleAttributes = {}) {\n",
              "  const element = document.createElement('span');\n",
              "  element.textContent = text;\n",
              "  for (const key of Object.keys(styleAttributes)) {\n",
              "    element.style[key] = styleAttributes[key];\n",
              "  }\n",
              "  return element;\n",
              "}\n",
              "\n",
              "// Max number of bytes which will be uploaded at a time.\n",
              "const MAX_PAYLOAD_SIZE = 100 * 1024;\n",
              "\n",
              "function _uploadFiles(inputId, outputId) {\n",
              "  const steps = uploadFilesStep(inputId, outputId);\n",
              "  const outputElement = document.getElementById(outputId);\n",
              "  // Cache steps on the outputElement to make it available for the next call\n",
              "  // to uploadFilesContinue from Python.\n",
              "  outputElement.steps = steps;\n",
              "\n",
              "  return _uploadFilesContinue(outputId);\n",
              "}\n",
              "\n",
              "// This is roughly an async generator (not supported in the browser yet),\n",
              "// where there are multiple asynchronous steps and the Python side is going\n",
              "// to poll for completion of each step.\n",
              "// This uses a Promise to block the python side on completion of each step,\n",
              "// then passes the result of the previous step as the input to the next step.\n",
              "function _uploadFilesContinue(outputId) {\n",
              "  const outputElement = document.getElementById(outputId);\n",
              "  const steps = outputElement.steps;\n",
              "\n",
              "  const next = steps.next(outputElement.lastPromiseValue);\n",
              "  return Promise.resolve(next.value.promise).then((value) => {\n",
              "    // Cache the last promise value to make it available to the next\n",
              "    // step of the generator.\n",
              "    outputElement.lastPromiseValue = value;\n",
              "    return next.value.response;\n",
              "  });\n",
              "}\n",
              "\n",
              "/**\n",
              " * Generator function which is called between each async step of the upload\n",
              " * process.\n",
              " * @param {string} inputId Element ID of the input file picker element.\n",
              " * @param {string} outputId Element ID of the output display.\n",
              " * @return {!Iterable<!Object>} Iterable of next steps.\n",
              " */\n",
              "function* uploadFilesStep(inputId, outputId) {\n",
              "  const inputElement = document.getElementById(inputId);\n",
              "  inputElement.disabled = false;\n",
              "\n",
              "  const outputElement = document.getElementById(outputId);\n",
              "  outputElement.innerHTML = '';\n",
              "\n",
              "  const pickedPromise = new Promise((resolve) => {\n",
              "    inputElement.addEventListener('change', (e) => {\n",
              "      resolve(e.target.files);\n",
              "    });\n",
              "  });\n",
              "\n",
              "  const cancel = document.createElement('button');\n",
              "  inputElement.parentElement.appendChild(cancel);\n",
              "  cancel.textContent = 'Cancel upload';\n",
              "  const cancelPromise = new Promise((resolve) => {\n",
              "    cancel.onclick = () => {\n",
              "      resolve(null);\n",
              "    };\n",
              "  });\n",
              "\n",
              "  // Wait for the user to pick the files.\n",
              "  const files = yield {\n",
              "    promise: Promise.race([pickedPromise, cancelPromise]),\n",
              "    response: {\n",
              "      action: 'starting',\n",
              "    }\n",
              "  };\n",
              "\n",
              "  cancel.remove();\n",
              "\n",
              "  // Disable the input element since further picks are not allowed.\n",
              "  inputElement.disabled = true;\n",
              "\n",
              "  if (!files) {\n",
              "    return {\n",
              "      response: {\n",
              "        action: 'complete',\n",
              "      }\n",
              "    };\n",
              "  }\n",
              "\n",
              "  for (const file of files) {\n",
              "    const li = document.createElement('li');\n",
              "    li.append(span(file.name, {fontWeight: 'bold'}));\n",
              "    li.append(span(\n",
              "        `(${file.type || 'n/a'}) - ${file.size} bytes, ` +\n",
              "        `last modified: ${\n",
              "            file.lastModifiedDate ? file.lastModifiedDate.toLocaleDateString() :\n",
              "                                    'n/a'} - `));\n",
              "    const percent = span('0% done');\n",
              "    li.appendChild(percent);\n",
              "\n",
              "    outputElement.appendChild(li);\n",
              "\n",
              "    const fileDataPromise = new Promise((resolve) => {\n",
              "      const reader = new FileReader();\n",
              "      reader.onload = (e) => {\n",
              "        resolve(e.target.result);\n",
              "      };\n",
              "      reader.readAsArrayBuffer(file);\n",
              "    });\n",
              "    // Wait for the data to be ready.\n",
              "    let fileData = yield {\n",
              "      promise: fileDataPromise,\n",
              "      response: {\n",
              "        action: 'continue',\n",
              "      }\n",
              "    };\n",
              "\n",
              "    // Use a chunked sending to avoid message size limits. See b/62115660.\n",
              "    let position = 0;\n",
              "    do {\n",
              "      const length = Math.min(fileData.byteLength - position, MAX_PAYLOAD_SIZE);\n",
              "      const chunk = new Uint8Array(fileData, position, length);\n",
              "      position += length;\n",
              "\n",
              "      const base64 = btoa(String.fromCharCode.apply(null, chunk));\n",
              "      yield {\n",
              "        response: {\n",
              "          action: 'append',\n",
              "          file: file.name,\n",
              "          data: base64,\n",
              "        },\n",
              "      };\n",
              "\n",
              "      let percentDone = fileData.byteLength === 0 ?\n",
              "          100 :\n",
              "          Math.round((position / fileData.byteLength) * 100);\n",
              "      percent.textContent = `${percentDone}% done`;\n",
              "\n",
              "    } while (position < fileData.byteLength);\n",
              "  }\n",
              "\n",
              "  // All done.\n",
              "  yield {\n",
              "    response: {\n",
              "      action: 'complete',\n",
              "    }\n",
              "  };\n",
              "}\n",
              "\n",
              "scope.google = scope.google || {};\n",
              "scope.google.colab = scope.google.colab || {};\n",
              "scope.google.colab._files = {\n",
              "  _uploadFiles,\n",
              "  _uploadFilesContinue,\n",
              "};\n",
              "})(self);\n",
              "</script> "
            ]
          },
          "metadata": {}
        },
        {
          "output_type": "stream",
          "name": "stdout",
          "text": [
            "Saving kaggle.json to kaggle.json\n"
          ]
        }
      ]
    },
    {
      "cell_type": "code",
      "source": [
        "\n",
        "!pip install -q kaggle\n",
        "!mkdir -p ~/.kaggle\n",
        "!cp kaggle.json ~/.kaggle/\n",
        "!ls ~/.kaggle\n",
        "!chmod 600 /root/.kaggle/kaggle.json  # set permission"
      ],
      "metadata": {
        "colab": {
          "base_uri": "https://localhost:8080/"
        },
        "id": "TRMaMla3IsDI",
        "outputId": "c7c43393-f6bc-4ac3-f20d-27a29457c170"
      },
      "execution_count": 18,
      "outputs": [
        {
          "output_type": "stream",
          "name": "stdout",
          "text": [
            "kaggle.json\n"
          ]
        }
      ]
    },
    {
      "cell_type": "code",
      "source": [
        "\n",
        "!kaggle datasets download -d puneet6060/intel-image-classification"
      ],
      "metadata": {
        "colab": {
          "base_uri": "https://localhost:8080/"
        },
        "id": "yRvSmGwdLUmk",
        "outputId": "0eed7b4a-b81c-483a-b7b5-b06953750b8d"
      },
      "execution_count": 19,
      "outputs": [
        {
          "output_type": "stream",
          "name": "stdout",
          "text": [
            "Dataset URL: https://www.kaggle.com/datasets/puneet6060/intel-image-classification\n",
            "License(s): copyright-authors\n",
            "Downloading intel-image-classification.zip to /content\n",
            " 96% 333M/346M [00:07<00:00, 37.6MB/s]\n",
            "100% 346M/346M [00:07<00:00, 49.8MB/s]\n"
          ]
        }
      ]
    },
    {
      "cell_type": "code",
      "source": [
        "!ls"
      ],
      "metadata": {
        "colab": {
          "base_uri": "https://localhost:8080/"
        },
        "id": "2qciUE0qKjlv",
        "outputId": "6b662f7a-2f0c-4cbc-caa9-0a3af0f8fe39"
      },
      "execution_count": 20,
      "outputs": [
        {
          "output_type": "stream",
          "name": "stdout",
          "text": [
            " intel-image-classification.zip  'kaggle (1).json'   kaggle.json   sample_data\n"
          ]
        }
      ]
    },
    {
      "cell_type": "code",
      "source": [
        "!unzip intel-image-classification.zip"
      ],
      "metadata": {
        "id": "-naRORREfzbE"
      },
      "execution_count": null,
      "outputs": []
    },
    {
      "cell_type": "code",
      "source": [
        "!ls"
      ],
      "metadata": {
        "colab": {
          "base_uri": "https://localhost:8080/"
        },
        "id": "cVlLGFvoLxAG",
        "outputId": "354f3c64-e297-463f-b591-79049126ad5c"
      },
      "execution_count": 23,
      "outputs": [
        {
          "output_type": "stream",
          "name": "stdout",
          "text": [
            " intel-image-classification.zip   kaggle.json   seg_pred   seg_train\n",
            "'kaggle (1).json'\t\t  sample_data   seg_test\n"
          ]
        }
      ]
    },
    {
      "cell_type": "code",
      "source": [
        "#INPUT_DIR = \"intel-image-classification/\"\n",
        "TRAIN_DIR =\"seg_train/seg_train\"\n",
        "TEST_DIR = \"seg_test/seg_test\"\n",
        "PRED_DIR = \"seg_pred/seg_pred\""
      ],
      "metadata": {
        "id": "Nx5f8Rm6HFSU"
      },
      "execution_count": 24,
      "outputs": []
    },
    {
      "cell_type": "code",
      "source": [
        "# Define the image file paths\n",
        "images = [\n",
        "    TRAIN_DIR + \"/sea/10016.jpg\", TRAIN_DIR + \"/sea/10041.jpg\",\n",
        "    TRAIN_DIR + \"/buildings/10006.jpg\", TRAIN_DIR + \"/buildings/10014.jpg\",\n",
        "    TRAIN_DIR + \"/forest/10007.jpg\", TRAIN_DIR + \"/forest/10010.jpg\",\n",
        "    TRAIN_DIR + \"/glacier/10003.jpg\", TRAIN_DIR + \"/glacier/10009.jpg\",\n",
        "    TRAIN_DIR + \"/mountain/10000.jpg\", TRAIN_DIR + \"/mountain/10002.jpg\",\n",
        "    TRAIN_DIR + \"/street/10015.jpg\", TRAIN_DIR + \"/street/10019.jpg\"\n",
        "]\n",
        "\n",
        "# Define the corresponding categories for each image\n",
        "categories = [image.split(\"/\")[-2] for image in images]\n",
        "\n",
        "plt.figure(figsize=(18, 12))\n",
        "for i in range(12):\n",
        "    img = plt.imread(images[i])\n",
        "    plt.subplot(3, 4, i + 1)\n",
        "    plt.imshow(img)\n",
        "    plt.title(categories[i])  # Display the category in the title\n",
        "    plt.axis(\"off\")\n",
        "plt.show()"
      ],
      "metadata": {
        "id": "X5vOW0_CfuQ9"
      },
      "execution_count": null,
      "outputs": []
    },
    {
      "cell_type": "code",
      "source": [
        "# Create the training and validation directories if they don't exist\n",
        "train_dir = 'train'\n",
        "valid_dir = 'val'\n",
        "os.makedirs(train_dir, exist_ok=True)\n",
        "os.makedirs(valid_dir, exist_ok=True)\n",
        "\n",
        "for subdir in os.listdir(TRAIN_DIR):\n",
        "    subdir_path = os.path.join(TRAIN_DIR, subdir)\n",
        "\n",
        "    # Create corresponding subdirectories in train and val directories\n",
        "    train_subdir = os.path.join(train_dir, subdir)\n",
        "    valid_subdir = os.path.join(valid_dir, subdir)\n",
        "\n",
        "    os.makedirs(train_subdir, exist_ok=True)\n",
        "    os.makedirs(valid_subdir, exist_ok=True)\n",
        "\n",
        "    all_images = os.listdir(subdir_path)\n",
        "\n",
        "    num_validation = int(len(all_images) * 0.2)\n",
        "    validation_images = random.sample(all_images, num_validation)\n",
        "\n",
        "    for img in all_images:\n",
        "        source_path = os.path.join(subdir_path, img)\n",
        "        dest_dir = valid_subdir if img in validation_images else train_subdir\n",
        "        dest_path = os.path.join(dest_dir, img)\n",
        "        shutil.copy(source_path, dest_path)"
      ],
      "metadata": {
        "id": "CvoyWE6nHOvi"
      },
      "execution_count": 26,
      "outputs": []
    },
    {
      "cell_type": "code",
      "source": [
        "!ls"
      ],
      "metadata": {
        "colab": {
          "base_uri": "https://localhost:8080/"
        },
        "id": "Rvdwme5MMWZS",
        "outputId": "48b9f1e9-a457-4064-eaed-022f64947c7c"
      },
      "execution_count": 28,
      "outputs": [
        {
          "output_type": "stream",
          "name": "stdout",
          "text": [
            " intel-image-classification.zip   kaggle.json   seg_pred   seg_train   val\n",
            "'kaggle (1).json'\t\t  sample_data   seg_test   train\n"
          ]
        }
      ]
    },
    {
      "cell_type": "code",
      "source": [
        "train_datagen = ImageDataGenerator(\n",
        "    rescale=1.0/255.0,      # Rescale pixel values to [0, 1]\n",
        "    rotation_range=25,      # Randomly rotate images by up to 25 degrees\n",
        "    width_shift_range=0.3,  # Randomly shift the width of images\n",
        "    height_shift_range=0.3, # Randomly shift the height of images\n",
        "    horizontal_flip=True,   # Randomly flip images horizontally\n",
        "    shear_range=0.3,        # Apply shear transformations\n",
        "    zoom_range=0.4,         # Randomly zoom into images\n",
        "    fill_mode='nearest'     # Fill empty pixels with the nearest value\n",
        ")\n",
        "\n",
        "test_datagen = ImageDataGenerator(rescale = 1.0 / 255)\n",
        "# Create data generators for training and validation data\n",
        "batch_size = 32\n",
        "image_size = (150, 150)\n",
        "\n",
        "train_generator = train_datagen.flow_from_directory(\n",
        "    'train',\n",
        "    target_size=image_size,\n",
        "    batch_size=batch_size,\n",
        "    class_mode='categorical'\n",
        ")\n",
        "\n",
        "val_generator = test_datagen.flow_from_directory(\n",
        "    'val',\n",
        "    target_size=image_size,\n",
        "    batch_size=batch_size,\n",
        "    class_mode='categorical'\n",
        ")\n",
        "\n",
        "test_generator = test_datagen.flow_from_directory(\n",
        "    TEST_DIR,\n",
        "    target_size=image_size,\n",
        "    shuffle=False,\n",
        "    class_mode='categorical',\n",
        "    batch_size=1\n",
        ")"
      ],
      "metadata": {
        "colab": {
          "base_uri": "https://localhost:8080/"
        },
        "id": "vFdSMjJmMOZG",
        "outputId": "742f57a1-2bfc-4ed5-9f81-e93e2712817a"
      },
      "execution_count": 29,
      "outputs": [
        {
          "output_type": "stream",
          "name": "stdout",
          "text": [
            "Found 11230 images belonging to 6 classes.\n",
            "Found 2804 images belonging to 6 classes.\n",
            "Found 3000 images belonging to 6 classes.\n"
          ]
        }
      ]
    },
    {
      "cell_type": "code",
      "source": [
        "import tensorflow_hub as hub\n",
        "import tensorflow as tf\n",
        "from tensorflow import keras\n",
        "from tensorflow.keras import layers\n",
        "\n",
        "image_size = (224, 224)  # example size, replace accordingly\n",
        "\n",
        "efficient_net = hub.KerasLayer(\n",
        "    \"https://www.kaggle.com/models/google/efficientnet-v2/frameworks/TensorFlow2/variations/imagenet21k-b3-feature-vector/versions/1\",\n",
        "    trainable=False, input_shape=image_size + (3,)\n",
        ")\n",
        "\n",
        "model = keras.Sequential([\n",
        "    layers.Lambda(efficient_net),  # Wrap hub layer with Lambda\n",
        "    layers.Flatten(),\n",
        "    layers.Dense(512, activation='relu'),\n",
        "    layers.BatchNormalization(),\n",
        "    layers.Dropout(0.5),\n",
        "    layers.Dense(256, activation='relu'),\n",
        "    layers.BatchNormalization(),\n",
        "    layers.Dropout(0.3),\n",
        "    layers.Dense(128, activation='relu'),\n",
        "    layers.BatchNormalization(),\n",
        "    layers.Dropout(0.3),\n",
        "    layers.Dense(6, activation='softmax'),\n",
        "])\n",
        "\n",
        "model.compile(\n",
        "    optimizer=keras.optimizers.Adam(),\n",
        "    loss='categorical_crossentropy',\n",
        "    metrics=['accuracy']\n",
        ")\n",
        "early_stopping = keras.callbacks.EarlyStopping( monitor='val_accuracy',patience=5,restore_best_weights=True)"
      ],
      "metadata": {
        "id": "eMJ-lZI7MgM2"
      },
      "execution_count": 31,
      "outputs": []
    },
    {
      "cell_type": "code",
      "source": [
        "history = model.fit(train_generator, epochs=5, validation_data=val_generator, callbacks=[early_stopping])"
      ],
      "metadata": {
        "colab": {
          "base_uri": "https://localhost:8080/"
        },
        "id": "01ytWrQ-M3lX",
        "outputId": "91205ddc-9737-47ce-e535-7a6d7538715c"
      },
      "execution_count": 33,
      "outputs": [
        {
          "output_type": "stream",
          "name": "stdout",
          "text": [
            "Epoch 1/5\n",
            "\u001b[1m351/351\u001b[0m \u001b[32m━━━━━━━━━━━━━━━━━━━━\u001b[0m\u001b[37m\u001b[0m \u001b[1m732s\u001b[0m 2s/step - accuracy: 0.8087 - loss: 0.5208 - val_accuracy: 0.9116 - val_loss: 0.2605\n",
            "Epoch 2/5\n",
            "\u001b[1m351/351\u001b[0m \u001b[32m━━━━━━━━━━━━━━━━━━━━\u001b[0m\u001b[37m\u001b[0m \u001b[1m736s\u001b[0m 2s/step - accuracy: 0.8324 - loss: 0.4535 - val_accuracy: 0.9183 - val_loss: 0.2345\n",
            "Epoch 3/5\n",
            "\u001b[1m351/351\u001b[0m \u001b[32m━━━━━━━━━━━━━━━━━━━━\u001b[0m\u001b[37m\u001b[0m \u001b[1m748s\u001b[0m 2s/step - accuracy: 0.8430 - loss: 0.4260 - val_accuracy: 0.9076 - val_loss: 0.2533\n",
            "Epoch 4/5\n",
            "\u001b[1m351/351\u001b[0m \u001b[32m━━━━━━━━━━━━━━━━━━━━\u001b[0m\u001b[37m\u001b[0m \u001b[1m734s\u001b[0m 2s/step - accuracy: 0.8532 - loss: 0.3986 - val_accuracy: 0.9165 - val_loss: 0.2393\n",
            "Epoch 5/5\n",
            "\u001b[1m351/351\u001b[0m \u001b[32m━━━━━━━━━━━━━━━━━━━━\u001b[0m\u001b[37m\u001b[0m \u001b[1m723s\u001b[0m 2s/step - accuracy: 0.8644 - loss: 0.3763 - val_accuracy: 0.9126 - val_loss: 0.2356\n"
          ]
        }
      ]
    },
    {
      "cell_type": "code",
      "source": [
        "predictions = model.predict(test_generator)\n",
        "loss, accuracy = model.evaluate(test_generator)\n",
        "print(f'Test loss: {loss:.4f}, accuracy: {accuracy:.4f}')"
      ],
      "metadata": {
        "colab": {
          "base_uri": "https://localhost:8080/"
        },
        "id": "7NUAwxHkNLDH",
        "outputId": "bc931e5c-9c3f-4263-bc80-5b4c8498b6cc"
      },
      "execution_count": 34,
      "outputs": [
        {
          "output_type": "stream",
          "name": "stdout",
          "text": [
            "\u001b[1m3000/3000\u001b[0m \u001b[32m━━━━━━━━━━━━━━━━━━━━\u001b[0m\u001b[37m\u001b[0m \u001b[1m212s\u001b[0m 70ms/step\n",
            "\u001b[1m3000/3000\u001b[0m \u001b[32m━━━━━━━━━━━━━━━━━━━━\u001b[0m\u001b[37m\u001b[0m \u001b[1m215s\u001b[0m 72ms/step - accuracy: 0.9258 - loss: 0.2176\n",
            "Test loss: 0.2298, accuracy: 0.9237\n"
          ]
        }
      ]
    },
    {
      "cell_type": "code",
      "source": [
        "true_labels = test_generator.classes\n",
        "class_names = list(test_generator.class_indices.keys())\n",
        "\n",
        "# Calculate the confusion matrix\n",
        "confusion = confusion_matrix(true_labels, np.argmax(predictions, axis=-1))\n",
        "\n",
        "# Plot the confusion matrix\n",
        "plt.figure(figsize=(8, 6))\n",
        "sns.heatmap(confusion, annot=True, fmt=\"d\", cmap=\"Blues\", cbar=False, xticklabels=class_names, yticklabels=class_names)\n",
        "plt.xlabel(\"Predicted Labels\")\n",
        "plt.ylabel(\"True Labels\")\n",
        "plt.title(\"Confusion Matrix\")\n",
        "plt.show()"
      ],
      "metadata": {
        "id": "i8Ncv-EjOM59"
      },
      "execution_count": null,
      "outputs": []
    },
    {
      "cell_type": "code",
      "source": [
        "misclassified_indices = np.where(np.argmax(predictions, axis=-1) != true_labels)[0]\n",
        "np.random.shuffle(misclassified_indices)\n",
        "\n",
        "num_images = min(len(misclassified_indices), 20)\n",
        "num_cols = int(ceil(sqrt(num_images)))\n",
        "num_rows = int(ceil(num_images / num_cols))\n",
        "\n",
        "fig, axs = plt.subplots(num_rows, num_cols, figsize=(12, 12))\n",
        "\n",
        "for i, idx in enumerate(misclassified_indices[:num_images]):\n",
        "    true_class, predicted_class = true_labels[idx], np.argmax(predictions[idx])\n",
        "    misclassified_image = plt.imread(test_generator.filepaths[idx])\n",
        "    axs[i // num_cols, i % num_cols].imshow(misclassified_image)\n",
        "    axs[i // num_cols, i % num_cols].set_title(f'True: {list(test_generator.class_indices.keys())[true_class]}\\nPredicted: {list(test_generator.class_indices.keys())[predicted_class]}')\n",
        "\n",
        "for i in range(num_images, num_rows * num_cols):\n",
        "    axs[i // num_cols, i % num_cols].axis('off')\n",
        "\n",
        "fig.suptitle(\"Mislassified images\")\n",
        "plt.tight_layout()\n",
        "plt.show()"
      ],
      "metadata": {
        "id": "bbU5s2wufoCP"
      },
      "execution_count": null,
      "outputs": []
    },
    {
      "cell_type": "code",
      "source": [],
      "metadata": {
        "id": "2Zc8PnurONCz"
      },
      "execution_count": null,
      "outputs": []
    }
  ]
}